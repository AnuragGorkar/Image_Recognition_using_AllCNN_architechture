{
  "nbformat": 4,
  "nbformat_minor": 0,
  "metadata": {
    "kernelspec": {
      "name": "python3",
      "display_name": "Python 3"
    },
    "language_info": {
      "codemirror_mode": {
        "name": "ipython",
        "version": 3
      },
      "file_extension": ".py",
      "mimetype": "text/x-python",
      "name": "python",
      "nbconvert_exporter": "python",
      "pygments_lexer": "ipython3",
      "version": "3.7.4"
    },
    "colab": {
      "name": "Image_Recognition_using_AllCNN_architechture.ipynb",
      "provenance": [],
      "collapsed_sections": [],
      "include_colab_link": true
    },
    "accelerator": "GPU"
  },
  "cells": [
    {
      "cell_type": "markdown",
      "metadata": {
        "id": "view-in-github",
        "colab_type": "text"
      },
      "source": [
        "<a href=\"https://colab.research.google.com/github/AnuragGorkar/Image_Recognition_using_AllCNN_architechture/blob/master/Image_Recognition_using_AllCNN_architechture.ipynb\" target=\"_parent\"><img src=\"https://colab.research.google.com/assets/colab-badge.svg\" alt=\"Open In Colab\"/></a>"
      ]
    },
    {
      "cell_type": "code",
      "metadata": {
        "id": "SBusNVKDRga9",
        "colab_type": "code",
        "colab": {}
      },
      "source": [
        "from keras.datasets import cifar10\n",
        "from matplotlib import pyplot as plt\n",
        "from keras.utils import np_utils\n",
        "import numpy as np\n",
        "from PIL import Image\n",
        "import seaborn as sns\n",
        "import warnings\n",
        "warnings.filterwarnings('ignore')\n",
        "sns.set()\n"
      ],
      "execution_count": 0,
      "outputs": []
    },
    {
      "cell_type": "code",
      "metadata": {
        "id": "w0_7J4kYRgbD",
        "colab_type": "code",
        "outputId": "75c10ca8-82b4-4d41-b64d-abf6fe4d20a5",
        "colab": {
          "base_uri": "https://localhost:8080/",
          "height": 84
        }
      },
      "source": [
        "import sys\n",
        "import keras\n",
        "import tensorflow as tf\n",
        "print('Python: {}'.format(sys.version))\n",
        "print('Keras: {}'.format(keras.__version__))\n",
        "print('TensorFlow: {}'.format(tf.__version__))"
      ],
      "execution_count": 0,
      "outputs": [
        {
          "output_type": "stream",
          "text": [
            "Python: 3.6.9 (default, Nov  7 2019, 10:44:02) \n",
            "[GCC 8.3.0]\n",
            "Keras: 2.2.5\n",
            "TensorFlow: 1.15.0\n"
          ],
          "name": "stdout"
        }
      ]
    },
    {
      "cell_type": "code",
      "metadata": {
        "id": "vhqD7RzgRgbI",
        "colab_type": "code",
        "colab": {}
      },
      "source": [
        "(X_train, Y_train),(X_test, Y_test) = cifar10.load_data()"
      ],
      "execution_count": 0,
      "outputs": []
    },
    {
      "cell_type": "code",
      "metadata": {
        "id": "0F8fED0VRgbL",
        "colab_type": "code",
        "outputId": "06b80c5a-142e-4e78-fd48-6b6ad10c462a",
        "colab": {
          "base_uri": "https://localhost:8080/",
          "height": 50
        }
      },
      "source": [
        "print(f'Training Images: {X_train.shape}')\n",
        "print(f'Testing Images: {X_test.shape}')"
      ],
      "execution_count": 0,
      "outputs": [
        {
          "output_type": "stream",
          "text": [
            "Training Images: (50000, 32, 32, 3)\n",
            "Testing Images: (10000, 32, 32, 3)\n"
          ],
          "name": "stdout"
        }
      ]
    },
    {
      "cell_type": "code",
      "metadata": {
        "id": "nxST92sERgbO",
        "colab_type": "code",
        "outputId": "03ec55b2-b442-4e35-fff7-83063bbf321e",
        "colab": {
          "base_uri": "https://localhost:8080/",
          "height": 34
        }
      },
      "source": [
        "# VIEWING SINGLE IMAGE\n",
        "print(X_train[0].shape)"
      ],
      "execution_count": 0,
      "outputs": [
        {
          "output_type": "stream",
          "text": [
            "(32, 32, 3)\n"
          ],
          "name": "stdout"
        }
      ]
    },
    {
      "cell_type": "code",
      "metadata": {
        "id": "d_7vamjgRgbS",
        "colab_type": "code",
        "outputId": "fffeef09-a55c-4921-e399-681f7ffad542",
        "colab": {
          "base_uri": "https://localhost:8080/",
          "height": 271
        }
      },
      "source": [
        "# CREATING A GRID OF THREE BY THREE IMAGES\n",
        "for i in range(0,9):\n",
        "    plt.subplot(330 + 1 + i)\n",
        "    img = X_train[i].transpose([0,1,2])\n",
        "    plt.imshow(img)\n",
        "plt.show()"
      ],
      "execution_count": 0,
      "outputs": [
        {
          "output_type": "display_data",
          "data": {
            "image/png": "[encoded data removed]",
            "text/plain": [
              "<Figure size 432x288 with 9 Axes>"
            ]
          },
          "metadata": {
            "tags": []
          }
        }
      ]
    },
    {
      "cell_type": "code",
      "metadata": {
        "id": "xlSrhzQ2RgbW",
        "colab_type": "code",
        "colab": {}
      },
      "source": [
        "# PREPROCESSING THE DATASET\n",
        "\n",
        "# FIXING RANDOM SEED FOR REPRODUCIBILITY\n",
        "seed = 6\n",
        "np.random.seed(seed)\n",
        "\n",
        "# LOADING DATA\n",
        "(X_train, Y_train),(X_test, Y_test) = cifar10.load_data()\n",
        "\n",
        "# NORMALIZING THE INPUTS FROM 0-255 TO 0-1 FOR RGB CHANNELS\n",
        "X_train = X_train.astype('float32')\n",
        "X_test = X_test.astype('float32')\n",
        "\n",
        "X_train = X_train / 255.0\n",
        "X_test = X_test /255.0"
      ],
      "execution_count": 0,
      "outputs": []
    },
    {
      "cell_type": "code",
      "metadata": {
        "id": "xvJrFoIRRgbZ",
        "colab_type": "code",
        "outputId": "dced254a-89e8-4e57-ca79-cd0fc560629e",
        "colab": {
          "base_uri": "https://localhost:8080/",
          "height": 50
        }
      },
      "source": [
        "print(Y_train.shape)\n",
        "print(Y_train[0])"
      ],
      "execution_count": 0,
      "outputs": [
        {
          "output_type": "stream",
          "text": [
            "(50000, 1)\n",
            "[6]\n"
          ],
          "name": "stdout"
        }
      ]
    },
    {
      "cell_type": "code",
      "metadata": {
        "id": "WcDZLRYvRgbc",
        "colab_type": "code",
        "outputId": "aa07dc89-3cd0-49a9-e62d-0f55f902ca67",
        "colab": {
          "base_uri": "https://localhost:8080/",
          "height": 168
        }
      },
      "source": [
        "# HOT ENCODING THE OUTPUTS\n",
        "\n",
        "Y_train = np_utils.to_categorical(Y_train)\n",
        "Y_test = np_utils.to_categorical(Y_test)\n",
        "num_class = Y_test.shape[1]\n",
        "print(num_class)\n",
        "print(Y_train.shape)\n",
        "print(Y_train)"
      ],
      "execution_count": 0,
      "outputs": [
        {
          "output_type": "stream",
          "text": [
            "10\n",
            "(50000, 10)\n",
            "[[0. 0. 0. ... 0. 0. 0.]\n",
            " [0. 0. 0. ... 0. 0. 1.]\n",
            " [0. 0. 0. ... 0. 0. 1.]\n",
            " ...\n",
            " [0. 0. 0. ... 0. 0. 1.]\n",
            " [0. 1. 0. ... 0. 0. 0.]\n",
            " [0. 1. 0. ... 0. 0. 0.]]\n"
          ],
          "name": "stdout"
        }
      ]
    },
    {
      "cell_type": "markdown",
      "metadata": {
        "id": "1Zip_muSRgbf",
        "colab_type": "text"
      },
      "source": [
        "ALL-CNN  ARCHITECHTURE\n",
        "MODEL - C \n",
        "* Input 32 × 32 RGB image\n",
        "* 3 × 3 conv. 96 ReLU ----> 1\n",
        "* 3 × 3 conv. 96 ReLU ----> 2\n",
        "* 3 × 3 max-pooling stride 2 ----> 3\n",
        "* 3 × 3 conv. 192 ReLU ----> 4\n",
        "* 3 × 3 conv. 192 ReLU ----> 5\n",
        "* 3 × 3 max-pooling stride 2 ----> 6\n",
        "* 3 × 3 conv. 192 ReLU ----> 7\n",
        "* 1 × 1 conv. 192 ReLU ----> 8\n",
        "* 1 × 1 conv. 10 ReLU ----> 9\n",
        "* global averaging over 6 × 6 spatial dimensions ----> 10\n",
        "* 10 or 100-way softmax ----> 11"
      ]
    },
    {
      "cell_type": "code",
      "metadata": {
        "id": "L1GLilS7Rgbh",
        "colab_type": "code",
        "colab": {}
      },
      "source": [
        "from keras.models import Sequential\n",
        "from keras.layers import Dropout, Activation, Conv2D, GlobalAveragePooling2D \n",
        "from keras.optimizers import SGD"
      ],
      "execution_count": 0,
      "outputs": []
    },
    {
      "cell_type": "code",
      "metadata": {
        "id": "uUiiqEv8Rgbk",
        "colab_type": "code",
        "colab": {}
      },
      "source": [
        "def ALL_CNN():\n",
        "  with tf.device('/device:GPU:0'):\n",
        "      model = Sequential() # DEFINE MODEL TYPE\n",
        "\n",
        "          # INPUT MODEL LAYER\n",
        "      model.add(Conv2D(96, (3, 3), padding = \"same\", input_shape = (3, 32, 32))) #----> 1\n",
        "      model.add(Activation('relu')) #----> 1\n",
        "\n",
        "          # INTERMEDIATE MODEL LAYERS\n",
        "      model.add(Conv2D(96, (3, 3), padding = \"same\")) #----> 2\n",
        "      model.add(Activation('relu')) #----> 2\n",
        "\n",
        "      model.add(Conv2D(96, (3, 3), padding = \"same\", strides = (2,2))) #----> 3\n",
        "      model.add(Dropout(0.5))\n",
        "\n",
        "      model.add(Conv2D(192, (3,3), padding = \"same\")) #----> 4\n",
        "      model.add(Activation('relu')) #----> 4\n",
        "\n",
        "      model.add(Conv2D(192, (3,3), padding = \"same\")) #----> 5\n",
        "      model.add(Activation('relu')) #----> 5\n",
        "\n",
        "      model.add(Conv2D(192, (3,3), padding = \"same\", strides = (2,2))) #----> 6\n",
        "      model.add(Dropout(0.5)) #----> 6\n",
        "\n",
        "      model.add(Conv2D(192, (3,3),padding = \"same\")) #----> 7\n",
        "      model.add(Activation('relu')) #----> 7\n",
        "\n",
        "      model.add(Conv2D(192, (1,1),padding = \"valid\")) #----> 8\n",
        "      model.add(Activation('relu')) #----> 8\n",
        "\n",
        "      model.add(Conv2D(10, (1,1),padding = \"valid\")) #----> 9\n",
        "      model.add(Activation('relu')) #----> 9\n",
        "\n",
        "      # ADD GLOBAL AVERAGE POOLING LAYER WITH SOFTMAX\n",
        "      model.add(GlobalAveragePooling2D())\n",
        "      model.add(Activation('softmax'))\n",
        "\n",
        "      # LOAD WEIGHTS\n",
        "      if weights:\n",
        "        model.load_weights(weights)\n",
        "\n",
        "      # RETURN THE MODEL\n",
        "      return model"
      ],
      "execution_count": 0,
      "outputs": []
    },
    {
      "cell_type": "code",
      "metadata": {
        "id": "t4fHV2QxRgbn",
        "colab_type": "code",
        "colab": {}
      },
      "source": [
        "# HYPER-PARAMETERS TUNING\n",
        "learning_rate = 0.01\n",
        "weight_decay = 1e-6\n",
        "momentum = 0.9\n",
        "\n",
        "# BUILD MODEL\n",
        "model = ALL_CNN()\n",
        "\n",
        "# DEFINE OPTIMIZER AND COMPILE THE MODEL\n",
        "sgd = SGD(lr=learning_rate, decay=weight_decay, momentum=momentum, nesterov=True)\n",
        "model.compile(loss='categorical_crossentropy', optimizer = sgd, metrics = ['accuracy'])\n",
        "\n",
        "# MODEL SUMMARY\n",
        "print(model.summary())\n",
        "\n",
        "# DEFINE ADDITIONAL TRAINING PARAMETERS\n",
        "epochs = 350\n",
        "batch_size = 32\n",
        "\n",
        "# FIT THE MODEL\n",
        "\n",
        "model.fit(X_train.reshape(50000, 3, 32, 32), Y_train, validation_data=(X_test.reshape(10000, 3, 32, 32), Y_test), epochs = epochs, batch_size = batch_size, verbose = 1) "
      ],
      "execution_count": 0,
      "outputs": []
    },
    {
      "cell_type": "code",
      "metadata": {
        "id": "-m--ALadRgbr",
        "colab_type": "code",
        "colab": {}
      },
      "source": [
        ""
      ],
      "execution_count": 0,
      "outputs": []
    }
  ]
}